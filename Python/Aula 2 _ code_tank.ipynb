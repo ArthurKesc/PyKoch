{
 "cells": [
  {
   "cell_type": "markdown",
   "id": "d021f3ab",
   "metadata": {},
   "source": [
    "# Tópicos da aula \n",
    "\n",
    "- Estrutura condicional e controle de fluxo\n",
    "- Comando if\n",
    "- Comando else\n",
    "- Comando Elif"
   ]
  },
  {
   "cell_type": "markdown",
   "id": "cd0d2122",
   "metadata": {},
   "source": [
    "Imagine que o critério de aprovação em uma escola seja a média superior a 7.0 e presença superior a 75%. Neste caso, o aluno precisa atender a ambos os critérios para ser aprovado. Se ele tirou uma ótima nota, mas faltou demais, será reprovado. Se ele compareceu a todas as aulas, mas teve notas baixas, idem."
   ]
  },
  {
   "cell_type": "code",
   "execution_count": 12,
   "id": "457e4bb6",
   "metadata": {
    "ExecuteTime": {
     "end_time": "2022-10-13T01:12:32.401047Z",
     "start_time": "2022-10-13T01:12:28.921831Z"
    }
   },
   "outputs": [
    {
     "name": "stdout",
     "output_type": "stream",
     "text": [
      "Digite a média do aluno: 7\n",
      "Digite as presenças do aluno: 7\n",
      "O aluno foi aprovado? True\n"
     ]
    }
   ],
   "source": [
    "media = float(input('Digite a média do aluno: '))\n",
    "presenca = float(input('Digite as presenças do aluno: '))\n",
    "\n",
    "aprovado = media >= 7.0 and presenca >= 0.75\n",
    "print('O aluno foi aprovado?', aprovado)"
   ]
  },
  {
   "cell_type": "markdown",
   "id": "570c2421",
   "metadata": {},
   "source": [
    "**AND** é uma conjunção lógica e o **OR** é uma disjunção lógica. O **not** é a negação lógica.\n",
    "\n",
    "| *A*   | *B*   | *A and B* | *A or B* | *not A* |\n",
    "|-------|-------|-----------|----------|---------|\n",
    "| False | False | False     | False    | True    |\n",
    "| False | True  | False     | True     | True    |\n",
    "| True  | False | False     | True     | False   |\n",
    "| True  | True  | True      | True     | False   |\n",
    "\n"
   ]
  },
  {
   "cell_type": "markdown",
   "id": "5e5c4511",
   "metadata": {},
   "source": [
    "Será que conseguimos escrever o problema acima de uma forma mais fácil?"
   ]
  },
  {
   "cell_type": "markdown",
   "id": "0271e87f",
   "metadata": {},
   "source": [
    "## Estrutura condicional"
   ]
  },
  {
   "cell_type": "markdown",
   "id": "2eef494d",
   "metadata": {},
   "source": [
    "- if"
   ]
  },
  {
   "cell_type": "markdown",
   "id": "e50abf84",
   "metadata": {},
   "source": [
    "Obs.: Python é uma linguagem identada"
   ]
  },
  {
   "cell_type": "code",
   "execution_count": 4,
   "id": "999d0832",
   "metadata": {
    "ExecuteTime": {
     "end_time": "2022-10-13T00:34:26.457967Z",
     "start_time": "2022-10-13T00:34:20.965528Z"
    }
   },
   "outputs": [
    {
     "name": "stdout",
     "output_type": "stream",
     "text": [
      "Digite a nota1: 7\n",
      "Digite a nota2: 5\n",
      "Aprovado\n",
      "Média:  6.0\n"
     ]
    }
   ],
   "source": [
    "nota1 = float(input('Digite a nota1: '))\n",
    "nota2 = float(input('Digite a nota2: '))\n",
    "\n",
    "media = (nota1 + nota2) / 2\n",
    "\n",
    "if media >= 7.0: ## if -> comando condicional\n",
    "    print('Aprovado')\n",
    "\n",
    "print('Média: ', media)"
   ]
  },
  {
   "cell_type": "markdown",
   "id": "710ee05a",
   "metadata": {},
   "source": [
    "Está faltando alguma coisa"
   ]
  },
  {
   "cell_type": "code",
   "execution_count": 7,
   "id": "05895f94",
   "metadata": {
    "ExecuteTime": {
     "end_time": "2022-10-13T00:53:37.740031Z",
     "start_time": "2022-10-13T00:53:35.939338Z"
    }
   },
   "outputs": [
    {
     "name": "stdout",
     "output_type": "stream",
     "text": [
      "Digite a nota1: 5\n",
      "Digite a nota2: 5\n",
      "Reprovado\n",
      "Média:  5.0\n"
     ]
    }
   ],
   "source": [
    "nota1 = float(input('Digite a nota1: '))\n",
    "nota2 = float(input('Digite a nota2: '))\n",
    "\n",
    "media = (nota1 + nota2) / 2\n",
    "\n",
    "if media >= 7.0: \n",
    "    print('Aprovado')\n",
    "    \n",
    "if media < 7.0: # Python é uma linguagem identada\n",
    "    print('Reprovado')\n",
    "\n",
    "print('Média: ', media)"
   ]
  },
  {
   "cell_type": "markdown",
   "id": "688c2dfc",
   "metadata": {},
   "source": [
    "- else"
   ]
  },
  {
   "cell_type": "code",
   "execution_count": 9,
   "id": "0e058d59",
   "metadata": {
    "ExecuteTime": {
     "end_time": "2022-10-13T00:55:41.721790Z",
     "start_time": "2022-10-13T00:55:37.335509Z"
    }
   },
   "outputs": [
    {
     "name": "stdout",
     "output_type": "stream",
     "text": [
      "Digite a nota1: 7\n",
      "Digite a nota2: 4\n",
      "Reprovado\n",
      "Média:  5.5\n"
     ]
    }
   ],
   "source": [
    "nota1 = float(input('Digite a nota1: '))\n",
    "nota2 = float(input('Digite a nota2: '))\n",
    "\n",
    "media = (nota1 + nota2) / 2\n",
    "\n",
    "if media >= 7.0: \n",
    "    print('Aprovado')\n",
    "else: ## O else nunca tem nada entre parentesis\n",
    "    print('Reprovado')\n",
    "\n",
    "print('Média: ', media)"
   ]
  },
  {
   "cell_type": "markdown",
   "id": "276dfaa6",
   "metadata": {},
   "source": [
    "Vamos acrescentar a presença para aprovação"
   ]
  },
  {
   "cell_type": "code",
   "execution_count": 11,
   "id": "d2eac4ae",
   "metadata": {
    "ExecuteTime": {
     "end_time": "2022-10-13T00:59:42.640209Z",
     "start_time": "2022-10-13T00:59:38.528568Z"
    }
   },
   "outputs": [
    {
     "name": "stdout",
     "output_type": "stream",
     "text": [
      "Digite a nota1: 5\n",
      "Digite a nota2: 5\n",
      "Digite a presença: 0.5\n",
      "Reprovado\n",
      "Média: 5.0 e presença: 0.5\n"
     ]
    }
   ],
   "source": [
    "nota1 = float(input('Digite a nota1: '))\n",
    "nota2 = float(input('Digite a nota2: '))\n",
    "presenca =  float(input('Digite a presença: '))\n",
    "\n",
    "media = (nota1 + nota2) / 2\n",
    "\n",
    "if media >= 7.0 and presenca >= 0.75: \n",
    "    print('Aprovado')\n",
    "else: ## O else nunca tem nada entre parentesis\n",
    "    print('Reprovado')\n",
    "\n",
    "print(f'Média: {media} e presença: {presenca}')"
   ]
  },
  {
   "cell_type": "markdown",
   "id": "0ef2ed99",
   "metadata": {},
   "source": [
    "Vamos incluir a recuperação nesse exemplo (para facilitar, vamos deixar de lado a presença). O aluno tem direito a recuperação se a média é maior que 5."
   ]
  },
  {
   "cell_type": "code",
   "execution_count": 14,
   "id": "48df6e4b",
   "metadata": {
    "ExecuteTime": {
     "end_time": "2022-10-13T02:10:53.323666Z",
     "start_time": "2022-10-13T02:10:49.694866Z"
    }
   },
   "outputs": [
    {
     "name": "stdout",
     "output_type": "stream",
     "text": [
      "Digite a nota1: 5\n",
      "Digite a nota2: 5\n",
      "Recuperação\n",
      "Média: 5.0\n"
     ]
    }
   ],
   "source": [
    "nota1 = float(input('Digite a nota1: '))\n",
    "nota2 = float(input('Digite a nota2: '))\n",
    "\n",
    "media = (nota1 + nota2) / 2\n",
    "\n",
    "if media >= 7.0 and presenca >= 0.75:\n",
    "    print('Aprovado')\n",
    "elif media >= 5:      # Acrescentamos o else if = elif\n",
    "    print('Recuperação')\n",
    "else: ## O else nunca tem nada entre parentesis\n",
    "    print('Reprovado')\n",
    "\n",
    "print(f'Média: {media}')"
   ]
  },
  {
   "cell_type": "markdown",
   "id": "7c713fe7",
   "metadata": {},
   "source": [
    "Bora praticar!"
   ]
  },
  {
   "cell_type": "markdown",
   "id": "221bc557",
   "metadata": {},
   "source": [
    "1) Faça um programa que peça a idade do usuário e imprima se ele é maior ou menor de 18 anos."
   ]
  },
  {
   "cell_type": "code",
   "execution_count": 17,
   "id": "3ee80027",
   "metadata": {
    "ExecuteTime": {
     "end_time": "2022-10-13T02:13:17.283724Z",
     "start_time": "2022-10-13T02:13:15.518483Z"
    }
   },
   "outputs": [
    {
     "name": "stdout",
     "output_type": "stream",
     "text": [
      "Qual a sua idade?17\n",
      "Menor de 18... Sem bebidas alcolcas\n"
     ]
    }
   ],
   "source": [
    "idade = int(input(\"Qual a sua idade?\"))\n",
    "\n",
    "\n",
    "if type(idade) == int:\n",
    "    if idade > 18:\n",
    "        print('Maior que 18')\n",
    "    elif idade == 18:\n",
    "        print('Você esta com 18 anos, ja pode tirar a carteira!')\n",
    "    else:\n",
    "        print(\"Menor de 18... Sem bebidas alcolcas\")\n",
    "else:\n",
    "    print('Coloque um valor inteiro')\n",
    "    "
   ]
  },
  {
   "cell_type": "code",
   "execution_count": 25,
   "id": "f6964262",
   "metadata": {},
   "outputs": [
    {
     "name": "stdout",
     "output_type": "stream",
     "text": [
      "Idade: 18\n"
     ]
    },
    {
     "data": {
      "text/plain": [
       "'menor de 18 anos'"
      ]
     },
     "execution_count": 25,
     "metadata": {},
     "output_type": "execute_result"
    }
   ],
   "source": [
    "'maior de 18 anos' if int(input('Idade: ')) > 18 else 'menor de 18 anos'"
   ]
  },
  {
   "cell_type": "markdown",
   "id": "20204a13",
   "metadata": {},
   "source": [
    "2) Faça um programa que peça um número e mostre se ele é positivo ou negativo."
   ]
  },
  {
   "cell_type": "code",
   "execution_count": 24,
   "id": "c87c5563",
   "metadata": {
    "ExecuteTime": {
     "end_time": "2022-10-13T02:13:30.446230Z",
     "start_time": "2022-10-13T02:13:25.107319Z"
    }
   },
   "outputs": [
    {
     "name": "stdout",
     "output_type": "stream",
     "text": [
      "Coloque um valor:5\n",
      "Valor positivo\n"
     ]
    }
   ],
   "source": [
    "n = int(input(\"Coloque um valor:\"))\n",
    "\n",
    "if n < 0:\n",
    "    print(\"Valor negativo\")\n",
    "elif n == 0:\n",
    "    print(\"Valor é Zero\")\n",
    "else:\n",
    "    print(\"Valor positivo\")"
   ]
  },
  {
   "cell_type": "markdown",
   "id": "83f073e8",
   "metadata": {},
   "source": [
    "3) Faça um programa que peça dois números e mostre o maior deles."
   ]
  },
  {
   "cell_type": "code",
   "execution_count": 28,
   "id": "41dbb8f3",
   "metadata": {
    "ExecuteTime": {
     "end_time": "2022-10-13T02:13:47.796296Z",
     "start_time": "2022-10-13T02:13:40.022621Z"
    }
   },
   "outputs": [
    {
     "name": "stdout",
     "output_type": "stream",
     "text": [
      "Primeiro valor: 2\n",
      "Segundo valor: 4\n",
      "Segundo valor Maior: 2.0 < 4.0\n"
     ]
    }
   ],
   "source": [
    "n1 = float(input(\"Primeiro valor: \"))\n",
    "n2 = float(input(\"Segundo valor: \"))\n",
    "\n",
    "if n1 == n2:\n",
    "    print(\"Valores iguais\")\n",
    "elif n1 > n2:\n",
    "    print(f\"Primeiro valor maior: {n1} > {n2}\")\n",
    "else:\n",
    "    print(f\"Segundo valor Maior: {n1} < {n2}\")\n"
   ]
  },
  {
   "cell_type": "markdown",
   "id": "bfdf137f",
   "metadata": {
    "ExecuteTime": {
     "end_time": "2022-10-13T02:14:01.965819Z",
     "start_time": "2022-10-13T02:14:01.958839Z"
    }
   },
   "source": [
    "4) Faça um programa que leia a validade das informações:\n",
    "\n",
    "a. Idade: entre 0 e 150;\n",
    "\n",
    "b. Salário: maior que 0;\n",
    "\n",
    "c. Sexo: M, F ou Outro;\n",
    "\n",
    "O programa deve imprimir uma mensagem de erro para cada informação inválida.'''"
   ]
  },
  {
   "cell_type": "code",
   "execution_count": 51,
   "id": "a1a21ec4",
   "metadata": {},
   "outputs": [
    {
     "name": "stdout",
     "output_type": "stream",
     "text": [
      "Qual a idade?20\n",
      "Qual o salário?20\n",
      "Sexo (use M, F ou Outro)?m\n",
      "\n"
     ]
    }
   ],
   "source": [
    "a = int(input(\"Qual a idade?\"))\n",
    "b = int(input(\"Qual o salário?\"))\n",
    "c = (input(\"Sexo (use M, F ou Outro)?\")).upper()\n",
    "\n",
    "\n",
    "if a <0:\n",
    "    print(\"idade não pode ser um valor menor que zero (0)\")\n",
    "elif a > 150:\n",
    "    print(\"idade não pode ser maior que 150\")\n",
    "\n",
    "    \n",
    "if b < 0:\n",
    "    print(\"O salário deve ser maior que zero, nem estagiários pagam para trabalhar...(Mesmo que parecça)\")\n",
    "   \n",
    "    \n",
    "if c == \"M\" or c == \"F\" or c == \"Outro\" or c == \"OUTRO\" or c == \"outro\":\n",
    "    print(\"\")\n",
    "else:\n",
    "    print(\"Você não colocou nenhum valor correto para sexo.\")"
   ]
  },
  {
   "cell_type": "markdown",
   "id": "4171857e",
   "metadata": {},
   "source": [
    "5) Escreva um programa que peça a nota de 3 provas de um aluno e verifique se ele passou ou não de ano.\n",
    "Obs.: O aluno irá passar de ano se sua média for maior que 6."
   ]
  },
  {
   "cell_type": "code",
   "execution_count": 55,
   "id": "a9246029",
   "metadata": {},
   "outputs": [
    {
     "name": "stdout",
     "output_type": "stream",
     "text": [
      "Valor da prova 1: 6\n",
      "Valor da prova 2: 7\n",
      "Valor da prova 3: 6\n",
      "Passou!\n"
     ]
    }
   ],
   "source": [
    "p1 = float(input(\"Valor da prova 1: \"))\n",
    "p2 = float(input(\"Valor da prova 2: \"))\n",
    "p3 = float(input(\"Valor da prova 3: \"))\n",
    "\n",
    "med = (p1 + p2 + p3)/3\n",
    "\n",
    "if med > 6:\n",
    "    print(\"Passou!\")\n",
    "else:\n",
    "    print(\"Reprovado.\")\n"
   ]
  },
  {
   "cell_type": "markdown",
   "id": "f23c8b47",
   "metadata": {},
   "source": [
    "6) Faça um programa que mostre uma questão de múltipla escolha com 5 opções (letras a, b, c, d, e). \n",
    "Sabendo a resposta certa, o programa deve receber a opção do usuário e informar a letra que o usuário marcou e se a resposta está certa ou errada."
   ]
  },
  {
   "cell_type": "code",
   "execution_count": 66,
   "id": "755c8b37",
   "metadata": {},
   "outputs": [
    {
     "name": "stdout",
     "output_type": "stream",
     "text": [
      "Qual a capital do RS?\n",
      "a) Porto Lucena \n",
      "b) Porto Feliz \n",
      "c) Porto Autralizano \n",
      "d) Porto Alegre \n",
      "e) Porto Alvoradense\n",
      "Responda com a letra de cada opção: \n",
      "\n",
      "f\n",
      "\n",
      "Meu pai amado.... Não é uma opção valida!\n"
     ]
    }
   ],
   "source": [
    "print(\"Qual a capital do RS?\\na) Porto Lucena \\nb) Porto Feliz \\nc) Porto Autralizano \\nd) Porto Alegre \\ne) Porto Alvoradense\")\n",
    "op = input(\"Responda com a letra de cada opção: \\n\\n\").upper()\n",
    "\n",
    "if op == \"D\":\n",
    "    print(\"\\nCerta Resposta\")\n",
    "elif op == \"A\" or op == \"B\" or op == \"C\" or op == \"E\":\n",
    "    print(\"\\nNa trave!....\")\n",
    "else:\n",
    "    print(\"\\nMeu pai amado.... Não é uma opção valida!\")"
   ]
  },
  {
   "cell_type": "markdown",
   "id": "00edeaec",
   "metadata": {},
   "source": [
    "7)\n",
    "Vamos fazer um programa para verificar quem é o assassino de um crime. Para descobrir o assassino, \n",
    "a polícia faz um pequeno questionário com 5 perguntas \n",
    "onde a resposta só pode ser sim ou não:\n",
    "\n",
    "a. Mora perto da vítima?\n",
    "\n",
    "b. Já trabalhou com a vítima?\n",
    "\n",
    "c. Telefonou para a vítima?\n",
    "\n",
    "d. Esteve no local do crime?\n",
    "\n",
    "e. Devia para a vítima?\n",
    "\n",
    "Cada resposta sim dá um ponto para o suspeito. A polícia considera que os suspeitos com 5 pontos são os assassinos, com 4 a 3 pontos \n",
    "são cúmplices e 2 pontos são apenas suspeitos, necessitando outras investigações. Valores iguais ou abaixo de 1 são liberados.'''"
   ]
  },
  {
   "cell_type": "code",
   "execution_count": 69,
   "id": "fa67925d",
   "metadata": {},
   "outputs": [
    {
     "name": "stdout",
     "output_type": "stream",
     "text": [
      "Responda apenas com as letras S (para sim) ou N (Para Não)\n",
      "\n",
      "\n",
      "Mora perto da vítima? \n",
      "s\n",
      "Já trabalhou com a vítima? \n",
      "s\n",
      "Telefonou para a vítima? \n",
      "n\n",
      "Esteve no local do crime? \n",
      "n\n",
      "Devia para a vítima? \n",
      "s\n",
      "Cúmplice: 3\n"
     ]
    }
   ],
   "source": [
    "p = int(0)\n",
    "print(\"Responda apenas com as letras S (para sim) ou N (Para Não)\\n\\n\")\n",
    "p1 = input('Mora perto da vítima? \\n').lower()\n",
    "p2 = input('Já trabalhou com a vítima? \\n').lower()\n",
    "p3 = input('Telefonou para a vítima? \\n').lower()\n",
    "p4 = input('Esteve no local do crime? \\n').lower()\n",
    "p5 = input('Devia para a vítima? \\n').lower()\n",
    "\n",
    "\n",
    "if p1 == 's':\n",
    "  p = p + 1\n",
    "if p2 == 's':\n",
    "  p = p + 1\n",
    "if p3 == 's':\n",
    "  p = p + 1\n",
    "if p4 == 's':\n",
    "  p = p + 1\n",
    "if p5 == 's':\n",
    "  p = p + 1\n",
    "\n",
    "if p == 5:\n",
    "  print(f'Assassino: {p}')\n",
    "elif p >= 3:\n",
    "  print(f'Cúmplice: {p}')\n",
    "elif p == 2:\n",
    "  print(f'Suspeito: {p}')\n",
    "else:\n",
    "  print(f'Liberado: {p}')"
   ]
  },
  {
   "cell_type": "markdown",
   "id": "d68cb36b",
   "metadata": {
    "ExecuteTime": {
     "end_time": "2022-10-13T02:15:54.837527Z",
     "start_time": "2022-10-13T02:15:54.826530Z"
    }
   },
   "source": [
    "8) Um produto vai sofrer aumento de acordo com a Tabela 1 abaixo. Faça um programa que peça para o usuário digitar o valor do produto de acordo \n",
    "com o preço antigo e escreva uma das mensagens da Tabela 2, de acordo com o preço reajustado:\n",
    "\n",
    "Tabela 1\n",
    "\n",
    "| Preço Antigo         | % de aumento |\n",
    "|----------------------|--------------|\n",
    "| Até 50 reais         | 5%           |\n",
    "| Entre 50 e 100 reais | 10%          |\n",
    "| De 100 a 150 reais   | 13%          |\n",
    "| Acima de 150 reais   | 15%          |\n",
    "\n",
    "Tabela 2\n",
    "\n",
    "| Preço Novo            | Mensagem   |\n",
    "|-----------------------|------------|\n",
    "| Até 80 reais          | Barato     |\n",
    "| Entre 80 e 115 reais  | Razoável   |\n",
    "| Entre 115 e 150 reais | Normal     |\n",
    "| Entre 150 e 170 reais | Caro       |\n",
    "| Acima de 170 reais    | Muito Caro |"
   ]
  },
  {
   "cell_type": "code",
   "execution_count": 87,
   "id": "cdba835c",
   "metadata": {},
   "outputs": [
    {
     "name": "stdout",
     "output_type": "stream",
     "text": [
      "Coloque o valor do seu produto: -> 90\n",
      "Valor final de: 99 ==> Razoável\n"
     ]
    }
   ],
   "source": [
    "v = float(input(\"Coloque o valor do seu produto: -> \"))\n",
    "a = float(0.0)\n",
    "\n",
    "if v < 50: a = 0.05\n",
    "if v >= 50 and v < 100: a = 0.1\n",
    "if v >= 100 and v < 150: a = 0.13\n",
    "if v > 150: a = 0.15\n",
    "    \n",
    "v = int(v*(1+a))\n",
    "\n",
    "if v < 80: print(f\"Valor final de: {v} ==> Barato\")\n",
    "if v >= 80 and v < 115: print(f\"Valor final de: {v} ==> Razoável\")\n",
    "if v >= 115 and v < 150: print(f\"Valor final de: {v} ==> Normal\")\n",
    "if v >= 150 and v < 170: print(f\"Valor final de: {v} ==> Caro\")\n",
    "if v > 170: print(f\"Valor final de: {v} ==> Muito Caro\")"
   ]
  },
  {
   "cell_type": "markdown",
   "id": "e1ceb826",
   "metadata": {},
   "source": [
    "9) Desafio 1 - Faça um programa que leia 3 números e informe o maior deles."
   ]
  },
  {
   "cell_type": "code",
   "execution_count": 1,
   "id": "62f6041c",
   "metadata": {},
   "outputs": [
    {
     "name": "stdout",
     "output_type": "stream",
     "text": [
      "Primeiro valor: 12\n",
      "Segundo valor: 10\n",
      "Segundo valor: 15\n",
      "Terceiro valor Maior: 15.0 > 12.0 e 10.0\n",
      "Ordem decrescente: [15.0, 12.0, 10.0]\n"
     ]
    }
   ],
   "source": [
    "n1 = float(input(\"Primeiro valor: \"))\n",
    "n2 = float(input(\"Segundo valor: \"))\n",
    "n3 = float(input(\"Segundo valor: \"))\n",
    "\n",
    "if n1 == n2 and n2 == n3:\n",
    "    print(\"Valores iguais\")\n",
    "elif n1 > n2 and n1 > n3:\n",
    "    print(f\"Primeiro valor maior: {n1} > {n2} e {n3}\")\n",
    "elif n2 > n1 and n2 > n3:\n",
    "    print(f\"Segundo valor Maior: {n2} > {n1} e {n3}\")\n",
    "elif n3 > n1 and n3 > n2:\n",
    "    print(f\"Terceiro valor Maior: {n3} > {n1} e {n2}\")\n",
    "else:\n",
    "    print(\"Alguma coisa deu errada ai!\")\n",
    "\n",
    "lista = [n1, n2, n3]\n",
    "\n",
    "print(f'Ordem decrescente: {sorted(lista, reverse=True)}')"
   ]
  },
  {
   "cell_type": "code",
   "execution_count": 2,
   "id": "061b25e1",
   "metadata": {},
   "outputs": [
    {
     "name": "stdout",
     "output_type": "stream",
     "text": [
      "Em que turno você estuda?\n",
      "M-matutino ou V-Vespertino ou N- Noturno: n\n",
      "Valor Inválido!\n"
     ]
    }
   ],
   "source": [
    "# 10 - Faça um Programa que pergunte em que turno você estuda. Peça para digitar M-matutino ou V-Vespertino ou N- Noturno. Imprima a mensagem\n",
    "# \"Bom Dia!\", \"Boa Tarde!\" ou \"Boa Noite!\" ou \"Valor Inválido!\", conforme o caso.\n",
    "pergunta = str(input('Em que turno você estuda?\\nM-matutino ou V-Vespertino ou N-Noturno: ')).upper().strip().split()\n",
    "\n",
    "if pergunta == 'M':\n",
    "    print('Bom Dia!')\n",
    "elif pergunta == 'V':\n",
    "    print('Boa Tarde!')\n",
    "elif pergunta == 'N':\n",
    "    print('Boa Noite!')\n",
    "else:\n",
    "    print('Valor Inválido!')"
   ]
  }
 ],
 "metadata": {
  "kernelspec": {
   "display_name": "Python 3 (ipykernel)",
   "language": "python",
   "name": "python3"
  },
  "language_info": {
   "codemirror_mode": {
    "name": "ipython",
    "version": 3
   },
   "file_extension": ".py",
   "mimetype": "text/x-python",
   "name": "python",
   "nbconvert_exporter": "python",
   "pygments_lexer": "ipython3",
   "version": "3.9.12"
  },
  "varInspector": {
   "cols": {
    "lenName": 16,
    "lenType": 16,
    "lenVar": 40
   },
   "kernels_config": {
    "python": {
     "delete_cmd_postfix": "",
     "delete_cmd_prefix": "del ",
     "library": "var_list.py",
     "varRefreshCmd": "print(var_dic_list())"
    },
    "r": {
     "delete_cmd_postfix": ") ",
     "delete_cmd_prefix": "rm(",
     "library": "var_list.r",
     "varRefreshCmd": "cat(var_dic_list()) "
    }
   },
   "types_to_exclude": [
    "module",
    "function",
    "builtin_function_or_method",
    "instance",
    "_Feature"
   ],
   "window_display": false
  }
 },
 "nbformat": 4,
 "nbformat_minor": 5
}
