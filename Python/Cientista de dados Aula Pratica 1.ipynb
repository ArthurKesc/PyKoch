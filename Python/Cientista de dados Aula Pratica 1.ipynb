{
 "cells": [
  {
   "cell_type": "code",
   "execution_count": 1,
   "id": "62565d14",
   "metadata": {},
   "outputs": [
    {
     "name": "stdout",
     "output_type": "stream",
     "text": [
      "Informe um valor\n",
      "10\n",
      "Qual valor?10\n"
     ]
    }
   ],
   "source": [
    "print(\"Informe um valor\")\n",
    "i = input()\n",
    "\n",
    "i = input(\"Qual valor?\")"
   ]
  },
  {
   "cell_type": "code",
   "execution_count": 3,
   "id": "32b95d85",
   "metadata": {},
   "outputs": [
    {
     "name": "stdout",
     "output_type": "stream",
     "text": [
      "1\n",
      "1.333\n",
      "Python\n",
      "Python\n",
      "True\n",
      "1.333\n"
     ]
    }
   ],
   "source": [
    "#Crie uma variaveinteira\n",
    "x = 1\n",
    "print(x)\n",
    "#Crie uma variável Float\n",
    "y = 1.333\n",
    "print(y)\n",
    "#Crie uma variável tipo String\n",
    "m = \"Python\"\n",
    "n = 'Python'\n",
    "print(m)\n",
    "print(n)\n",
    "#Crie uma variável tipo Lógica\n",
    "w = True\n",
    "q = False\n",
    "print(w)\n",
    "print(y)\n"
   ]
  },
  {
   "cell_type": "code",
   "execution_count": 10,
   "id": "a58ff08d",
   "metadata": {},
   "outputs": [
    {
     "name": "stdout",
     "output_type": "stream",
     "text": [
      "32.22\n"
     ]
    }
   ],
   "source": [
    "#Calculadora Python\n",
    "x = 10\n",
    "y = 22.22\n",
    "z = 100\n",
    "w = (x+y ) * z / 100\n",
    "print(w)"
   ]
  },
  {
   "cell_type": "code",
   "execution_count": 8,
   "id": "390ae088",
   "metadata": {},
   "outputs": [
    {
     "name": "stdout",
     "output_type": "stream",
     "text": [
      "este texto sai no console\n",
      "10\n",
      "juntando texto  10  juntou com x\n"
     ]
    }
   ],
   "source": [
    "#Exibir o texto no console\n",
    "print(\"este texto sai no console\")\n",
    "print(x)\n",
    "print(\"juntando texto \", x, \" juntou com x\")"
   ]
  },
  {
   "cell_type": "code",
   "execution_count": 12,
   "id": "2a3cbd36",
   "metadata": {},
   "outputs": [
    {
     "name": "stdout",
     "output_type": "stream",
     "text": [
      "<class 'int'>\n",
      "<class 'float'>\n",
      "<class 'bool'>\n"
     ]
    }
   ],
   "source": [
    "#Imprimindo o typo de varial\n",
    "print(type(x))\n",
    "print(type(y))\n",
    "print(type(q))"
   ]
  },
  {
   "cell_type": "code",
   "execution_count": 13,
   "id": "d5b3631e",
   "metadata": {},
   "outputs": [
    {
     "name": "stdout",
     "output_type": "stream",
     "text": [
      "Coloque um valor inteiro10\n",
      "10\n"
     ]
    }
   ],
   "source": [
    "#Entrando com os dados\n",
    "i = input(\"Coloque um valor inteiro\")\n",
    "#mostra o valor de i\n",
    "print(i)"
   ]
  },
  {
   "cell_type": "code",
   "execution_count": 6,
   "id": "e9c0fd86",
   "metadata": {},
   "outputs": [
    {
     "name": "stdout",
     "output_type": "stream",
     "text": [
      "Informe o Valor10\n",
      "<class 'str'>\n",
      "<class 'int'>\n"
     ]
    }
   ],
   "source": [
    "var = input(\"Informe o Valor\")\n",
    "print(type(var))\n",
    "var = int(var)\n",
    "print(type(var))"
   ]
  },
  {
   "cell_type": "code",
   "execution_count": 13,
   "id": "0f314319",
   "metadata": {},
   "outputs": [
    {
     "name": "stdout",
     "output_type": "stream",
     "text": [
      "Qual a sua nota?7\n",
      "Aprovado\n",
      "Parabens\n"
     ]
    }
   ],
   "source": [
    "nota = int(input(\"Qual a sua nota?\"))\n",
    "\n",
    "if nota >= 7:\n",
    "    print(\"Aprovado\")\n",
    "    print(\"Parabens\")\n",
    "else:\n",
    "    print(\"Reprovado, tente no proximo ano\")"
   ]
  },
  {
   "cell_type": "code",
   "execution_count": 17,
   "id": "7ebf2584",
   "metadata": {},
   "outputs": [
    {
     "name": "stdout",
     "output_type": "stream",
     "text": [
      "Qual a sua nota?8\n",
      "Parabens\n"
     ]
    }
   ],
   "source": [
    "nota = int(input(\"Qual a sua nota?\"))\n",
    "\n",
    "if nota <= 4:\n",
    "    print(\"Reprovado\")\n",
    "elif nota >4 and nota <=7:\n",
    "    print(\"fazer o exame\")\n",
    "else:\n",
    "    print(\"Parabens\")"
   ]
  },
  {
   "cell_type": "code",
   "execution_count": 20,
   "id": "d9f267fa",
   "metadata": {},
   "outputs": [
    {
     "name": "stdout",
     "output_type": "stream",
     "text": [
      "1\n",
      "2\n",
      "3\n",
      "4\n",
      "5\n"
     ]
    }
   ],
   "source": [
    "count = 1\n",
    "while count <= 5:\n",
    "    print(count)\n",
    "    count +=1"
   ]
  },
  {
   "cell_type": "code",
   "execution_count": 22,
   "id": "cb192121",
   "metadata": {},
   "outputs": [
    {
     "name": "stdout",
     "output_type": "stream",
     "text": [
      "1\n",
      "2\n",
      "3\n",
      "4\n",
      "5\n",
      "6\n",
      "7\n",
      "8\n",
      "9\n",
      "10\n",
      "1\n",
      "2\n",
      "3\n",
      "4\n",
      "5\n",
      "6\n",
      "7\n",
      "8\n",
      "9\n",
      "10\n"
     ]
    }
   ],
   "source": [
    "#range(0, 10, 1):\n",
    "#range(inicio, parada, incremento)\n",
    "#o pythoon \"ignora\" o ultimo valor de intervalos\n",
    "#O incremento pode ser negativo\n",
    "\n",
    "#for normal\n",
    "for n in range(0 ,10):\n",
    "    print(n+1)\n",
    "    \n",
    "for n in range(1, 11):\n",
    "    print(n)"
   ]
  },
  {
   "cell_type": "code",
   "execution_count": 23,
   "id": "4ac013dc",
   "metadata": {},
   "outputs": [
    {
     "name": "stdout",
     "output_type": "stream",
     "text": [
      "10\n",
      "9\n",
      "8\n",
      "7\n",
      "6\n",
      "5\n",
      "4\n",
      "3\n",
      "2\n",
      "1\n"
     ]
    }
   ],
   "source": [
    "for n in range(10, 0, -1):\n",
    "    print(n)\n"
   ]
  },
  {
   "cell_type": "code",
   "execution_count": 24,
   "id": "fe0de39f",
   "metadata": {},
   "outputs": [
    {
     "name": "stdout",
     "output_type": "stream",
     "text": [
      "0\n",
      "1\n",
      "2\n",
      "3\n"
     ]
    }
   ],
   "source": [
    "for n in range(0,10):\n",
    "    if n ==4:\n",
    "        break\n",
    "    print(n)"
   ]
  },
  {
   "cell_type": "code",
   "execution_count": 25,
   "id": "a9809136",
   "metadata": {},
   "outputs": [
    {
     "name": "stdout",
     "output_type": "stream",
     "text": [
      "0\n",
      "1\n",
      "2\n",
      "3\n",
      "achou 4\n",
      "5\n",
      "6\n",
      "7\n",
      "8\n",
      "9\n"
     ]
    }
   ],
   "source": [
    "for n in range(0,10):\n",
    "    if n ==4:\n",
    "        print(\"achou 4\")\n",
    "        continue\n",
    "    print(n)"
   ]
  },
  {
   "cell_type": "code",
   "execution_count": null,
   "id": "3489bc02",
   "metadata": {},
   "outputs": [],
   "source": [
    "\n",
    "\n",
    "\n",
    "\n",
    "\n",
    "\n",
    "\n",
    "\n",
    "\n",
    "\n",
    "\n",
    "\n",
    "\n",
    "\n",
    "\n",
    "\n",
    "\n",
    "\n",
    "\n",
    "\n",
    "\n",
    "\n",
    "\n",
    "\n",
    "\n",
    "\n"
   ]
  }
 ],
 "metadata": {
  "kernelspec": {
   "display_name": "Python 3 (ipykernel)",
   "language": "python",
   "name": "python3"
  },
  "language_info": {
   "codemirror_mode": {
    "name": "ipython",
    "version": 3
   },
   "file_extension": ".py",
   "mimetype": "text/x-python",
   "name": "python",
   "nbconvert_exporter": "python",
   "pygments_lexer": "ipython3",
   "version": "3.9.12"
  }
 },
 "nbformat": 4,
 "nbformat_minor": 5
}
