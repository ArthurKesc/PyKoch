{
 "cells": [
  {
   "cell_type": "code",
   "execution_count": 1,
   "id": "34dad9a9",
   "metadata": {},
   "outputs": [],
   "source": [
    "import numpy as np"
   ]
  },
  {
   "cell_type": "code",
   "execution_count": 3,
   "id": "9ef4df1a",
   "metadata": {},
   "outputs": [
    {
     "name": "stdout",
     "output_type": "stream",
     "text": [
      "[12 34 26 18 10]\n",
      "<class 'numpy.ndarray'>\n"
     ]
    }
   ],
   "source": [
    "#cria uma matriz unidimencional\n",
    "mt = np.array([12,34,26,18,10])\n",
    "print(mt)\n",
    "print(type(mt))"
   ]
  },
  {
   "cell_type": "code",
   "execution_count": 4,
   "id": "48afef8f",
   "metadata": {},
   "outputs": [
    {
     "name": "stdout",
     "output_type": "stream",
     "text": [
      "[1. 2. 3.]\n",
      "<class 'numpy.ndarray'>\n",
      "[1 2 3]\n",
      "<class 'numpy.ndarray'>\n"
     ]
    }
   ],
   "source": [
    "#cria o array com um tipo especifico \n",
    "# cria o array como float de 64 bits\n",
    "mtfloat = np.array([1,2,3], dtype = np.float64)\n",
    "print(mtfloat)\n",
    "print(type(mtfloat))\n",
    "mtint = np.array([1,2,3], dtype = np.int32)\n",
    "print(mtint)\n",
    "print(type(mtint))"
   ]
  },
  {
   "cell_type": "code",
   "execution_count": 5,
   "id": "a08e883d",
   "metadata": {},
   "outputs": [
    {
     "name": "stdout",
     "output_type": "stream",
     "text": [
      "[ 1.4       1.5      -5.6       9.42      4.999999]\n",
      "[ 1  1 -5  9  4]\n"
     ]
    }
   ],
   "source": [
    "#mudar o tipo do array\n",
    "#podemos tranformar tipos de dados de arrays\n",
    "mtnew = np.array([1.4,1.5,-5.6,9.42,4.999999])\n",
    "print(mtnew)\n",
    "#quando transformamos de float para int os valores são truncados\n",
    "mtnewint = mtnew.astype(np.int32)\n",
    "print(mtnewint)"
   ]
  },
  {
   "cell_type": "code",
   "execution_count": 6,
   "id": "da8cc18c",
   "metadata": {},
   "outputs": [
    {
     "name": "stdout",
     "output_type": "stream",
     "text": [
      "[1 2 3 4]\n",
      "[1. 2. 3. 4.]\n"
     ]
    }
   ],
   "source": [
    "#pode=se fazer o inverso da corvenção\n",
    "mt5 = np.array([1,2,3,4])\n",
    "print(mt5)\n",
    "mt6 = mt5.astype(float)\n",
    "print(mt6)"
   ]
  },
  {
   "cell_type": "code",
   "execution_count": 8,
   "id": "37a18ac5",
   "metadata": {},
   "outputs": [
    {
     "name": "stdout",
     "output_type": "stream",
     "text": [
      "[[ 7  2 23]\n",
      " [12 27  4]\n",
      " [ 5 34 23]]\n"
     ]
    }
   ],
   "source": [
    "#mais de uma dimenção\n",
    "# Cria uma matriz bidimencional\n",
    "mt7 = np.array([[7,2,23],[12,27,4],[5,34,23]])\n",
    "print(mt7)"
   ]
  },
  {
   "cell_type": "code",
   "execution_count": 10,
   "id": "5a78463f",
   "metadata": {},
   "outputs": [
    {
     "name": "stdout",
     "output_type": "stream",
     "text": [
      "[[         0 1072693248]\n",
      " [         0 1073741824]\n",
      " [         0 1074266112]]\n",
      "________________\n",
      "[[0. 0. 0.]\n",
      " [0. 0. 0.]\n",
      " [0. 0. 0.]\n",
      " [0. 0. 0.]]\n",
      "___________________\n",
      "[[1. 1. 1. 1. 1. 1. 1.]\n",
      " [1. 1. 1. 1. 1. 1. 1.]\n",
      " [1. 1. 1. 1. 1. 1. 1.]\n",
      " [1. 1. 1. 1. 1. 1. 1.]\n",
      " [1. 1. 1. 1. 1. 1. 1.]]\n",
      "__________________\n",
      "[[1. 0. 0. 0. 0.]\n",
      " [0. 1. 0. 0. 0.]\n",
      " [0. 0. 1. 0. 0.]\n",
      " [0. 0. 0. 1. 0.]\n",
      " [0. 0. 0. 0. 1.]]\n"
     ]
    }
   ],
   "source": [
    "#criar array vazios tipificados\n",
    "#empty significa que não são inicializados, não que são vazios\n",
    "vazio = np.empty([3,2], dtype = int)\n",
    "print(vazio)\n",
    "print(\"________________\")\n",
    "#cria uma matriz 4x3 com valores zerados\n",
    "zeros = np.zeros([4,3])\n",
    "print(zeros)\n",
    "print(\"___________________\")\n",
    "#cria com valores iguais\n",
    "um = np.ones([5,7])\n",
    "print(um)\n",
    "print(\"__________________\")\n",
    "#Cria matriz quadrad com diagonal principal com valores 1 e os ooutros valores como zero\n",
    "diagonal = np.eye(5)\n",
    "print(diagonal)"
   ]
  },
  {
   "cell_type": "code",
   "execution_count": 13,
   "id": "6d564bdd",
   "metadata": {},
   "outputs": [
    {
     "name": "stdout",
     "output_type": "stream",
     "text": [
      "[0.34378106 0.24803735 0.72624433 0.06672903 0.45336607]\n",
      "[1.84224617 1.27119938 0.59363825 0.77661521 1.53881009]\n",
      "[[8.02026248 3.88420034 9.28456711 4.16953722]\n",
      " [4.79391927 4.30326588 5.70845583 0.24154201]\n",
      " [3.5718954  4.42884846 6.80678346 4.2889151 ]]\n"
     ]
    }
   ],
   "source": [
    "#valores aleatórios entre zero e um \n",
    "ale = np.random.random((5))\n",
    "print(ale)\n",
    "#valors aleatorios distr, normal contendo negativos\n",
    "ale2 = np.random.randn((5))\n",
    "print(ale2)\n",
    "#valores aleatórios 3 x 4\n",
    "ale3 = (10*np.random.random((3,4)))\n",
    "print(ale3)"
   ]
  },
  {
   "cell_type": "code",
   "execution_count": 14,
   "id": "1e3f4450",
   "metadata": {},
   "outputs": [
    {
     "name": "stdout",
     "output_type": "stream",
     "text": [
      "[0.51182162 0.9504637  0.14415961]\n",
      "[[8 9 2 3]\n",
      " [8 4 2 8]\n",
      " [2 4 6 5]]\n"
     ]
    }
   ],
   "source": [
    "#outra forma de gerar numeros aleatorios\n",
    "#uso de semente\n",
    "gnr = np.random.default_rng(1)\n",
    "ale5 = gnr.random(3)\n",
    "print(ale5)\n",
    "\n",
    "#gerar inteiros\n",
    "ale6 = gnr.integers(10, size=(3,4))\n",
    "print(ale6)"
   ]
  },
  {
   "cell_type": "code",
   "execution_count": 17,
   "id": "dcb2f135",
   "metadata": {},
   "outputs": [
    {
     "name": "stdout",
     "output_type": "stream",
     "text": [
      "[11 12 13 14 15 16 17 18 19 20]\n"
     ]
    }
   ],
   "source": [
    "#unique remove repetições\n",
    "j = np.array([11,12,14,15,16,17,12,13,11,18,19,20])\n",
    "j = np.unique(j)\n",
    "print(j)"
   ]
  },
  {
   "cell_type": "code",
   "execution_count": 18,
   "id": "4bcc2f0c",
   "metadata": {},
   "outputs": [
    {
     "name": "stdout",
     "output_type": "stream",
     "text": [
      "[[17 22 43]\n",
      " [24 25 14]\n",
      " [15 24 32]]\n",
      "22\n",
      "(3, 3)\n"
     ]
    }
   ],
   "source": [
    "#funções especificas do Numpy\n",
    "# Cria matriz bidimencional K\n",
    "k = np.array([[17,22,43],[24,25,14],[15,24,32]])\n",
    "#mostra amatriz k\n",
    "print(k)\n",
    "#mnostra um elemento especifico da matriz k\n",
    "print(k[0][1])\n",
    "#mostra o tamanho das dimenções da matriz k\n",
    "print(k.shape)\n"
   ]
  },
  {
   "cell_type": "code",
   "execution_count": 19,
   "id": "d21db3ef",
   "metadata": {},
   "outputs": [
    {
     "name": "stdout",
     "output_type": "stream",
     "text": [
      "43\n",
      "14\n",
      "216\n",
      "24.0\n",
      "8.563488385776752\n"
     ]
    }
   ],
   "source": [
    "#funções matematicas\n",
    "#mostra o maior valor da mtriz k\n",
    "print(k.max())\n",
    "#mostra o menor valor da matriz k\n",
    "print(k.min())\n",
    "#mostra a soma dos valores da matriz \n",
    "print(k.sum())\n",
    "#mostra a media da matriz k\n",
    "print(k.mean())\n",
    "#mostra o valor do desvio padrão d\n",
    "print(k.std())"
   ]
  },
  {
   "cell_type": "code",
   "execution_count": 24,
   "id": "058b0e06",
   "metadata": {},
   "outputs": [
    {
     "name": "stdout",
     "output_type": "stream",
     "text": [
      "[1. 2. 3. 4.]\n",
      "[2.71828183e+00 5.45981500e+01 8.10308393e+03 8.88611052e+06]\n"
     ]
    }
   ],
   "source": [
    "#funções universais aplicada a todos os elementos\n",
    "# mostra o valor da reaiz quadrado de todos os elementos\n",
    "k1 = np.array([1,4,9,16])\n",
    "print(np.sqrt(k1))\n",
    "#mostra o valor explonencial\n",
    "print(np.exp(k1))"
   ]
  },
  {
   "cell_type": "code",
   "execution_count": 32,
   "id": "3998c389",
   "metadata": {},
   "outputs": [
    {
     "name": "stdout",
     "output_type": "stream",
     "text": [
      "2\n",
      "[1 2]\n",
      "[2 3 4 5 6]\n",
      "[4 5 6]\n"
     ]
    }
   ],
   "source": [
    "#extração de elementos\n",
    "m = np.array([1,2,3,4,5,6])\n",
    "# mostra o elemento da posi~ção 2\n",
    "print(m[1])\n",
    "# mostra o array criado a partoir da posição 0, dos elementos\n",
    "print(m[0:2])\n",
    "#mostra o array criado a partir da segunda posição\n",
    "print(m[1:])\n",
    "#mostra o array criado a partir do anetepenultima\n",
    "print(m[-3:])\n"
   ]
  },
  {
   "cell_type": "code",
   "execution_count": 34,
   "id": "6cbe3f9c",
   "metadata": {},
   "outputs": [
    {
     "name": "stdout",
     "output_type": "stream",
     "text": [
      "[[4 5]\n",
      " [6 1]\n",
      " [7 4]]\n",
      "----------------\n",
      "[4 5]\n",
      "----------------\n",
      "[6 1]\n",
      "----------------\n",
      "[7 4]\n",
      "----------------\n",
      "[4 6 7]\n",
      "----------------\n",
      "[5 1 4]\n",
      "----------------\n"
     ]
    }
   ],
   "source": [
    "#extração de linhas e colunas\n",
    "l = np.array([[4,5],[6,1],[7,4]])\n",
    "print(l)\n",
    "print(\"----------------\")\n",
    "#Primeira linha e todas as colunas\n",
    "l_linha_1 = l[0, : ]\n",
    "print(l_linha_1)\n",
    "print(\"----------------\")\n",
    "#Segunda linha\n",
    "l_linha_2 = l[1, :]\n",
    "print(l_linha_2)\n",
    "print(\"----------------\")\n",
    "#terceira linha\n",
    "l_linha_2 = l[2, :]\n",
    "print(l_linha_2)\n",
    "print(\"----------------\")\n",
    "#todas as linhas e a terceira coluna\n",
    "l_linha_3 = l[:, 0]\n",
    "print(l_linha_3)\n",
    "print(\"----------------\")\n",
    "#todas as linhas e a segunda colhna\n",
    "l_linha_4 = l[:, 1]\n",
    "print(l_linha_4)\n",
    "print(\"----------------\")\n"
   ]
  },
  {
   "cell_type": "code",
   "execution_count": null,
   "id": "4881175e",
   "metadata": {},
   "outputs": [],
   "source": [
    "\n",
    "\n",
    "\n",
    "\n",
    "\n",
    "\n",
    "\n",
    "\n",
    "\n",
    "\n",
    "\n",
    "\n",
    "\n",
    "\n",
    "\n",
    "\n",
    "\n",
    "\n",
    "\n",
    "\n",
    "\n",
    "\n"
   ]
  }
 ],
 "metadata": {
  "kernelspec": {
   "display_name": "Python 3 (ipykernel)",
   "language": "python",
   "name": "python3"
  },
  "language_info": {
   "codemirror_mode": {
    "name": "ipython",
    "version": 3
   },
   "file_extension": ".py",
   "mimetype": "text/x-python",
   "name": "python",
   "nbconvert_exporter": "python",
   "pygments_lexer": "ipython3",
   "version": "3.9.12"
  }
 },
 "nbformat": 4,
 "nbformat_minor": 5
}
