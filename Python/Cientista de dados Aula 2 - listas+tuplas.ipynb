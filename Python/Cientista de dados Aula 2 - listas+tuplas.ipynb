{
 "cells": [
  {
   "cell_type": "code",
   "execution_count": 1,
   "id": "d4324e2f",
   "metadata": {},
   "outputs": [
    {
     "name": "stdout",
     "output_type": "stream",
     "text": [
      "[1, 2, 3, 4, 5]\n"
     ]
    }
   ],
   "source": [
    "#formas de criar listas\n",
    "lst = [1,2,3,4,5]\n",
    "print(lst)"
   ]
  },
  {
   "cell_type": "code",
   "execution_count": 2,
   "id": "cb6d962d",
   "metadata": {},
   "outputs": [
    {
     "name": "stdout",
     "output_type": "stream",
     "text": [
      "[1, 2, 3, '4', True]\n"
     ]
    }
   ],
   "source": [
    "#Varios tipos\n",
    "lst2 = [1,2,3,\"4\",True]\n",
    "print(lst2)"
   ]
  },
  {
   "cell_type": "code",
   "execution_count": 8,
   "id": "1766a0a4",
   "metadata": {},
   "outputs": [
    {
     "name": "stdout",
     "output_type": "stream",
     "text": [
      "[12, [1, 2, 3, 4, 5], 'a']\n"
     ]
    }
   ],
   "source": [
    "#listas com listas\n",
    "lst3 = [12,[1,2,3,4,5],\"a\"]\n",
    "print(lst3)"
   ]
  },
  {
   "cell_type": "code",
   "execution_count": 4,
   "id": "846fdeda",
   "metadata": {},
   "outputs": [
    {
     "name": "stdout",
     "output_type": "stream",
     "text": [
      "[0, 1, 2, 3, 4, 5, 6, 7, 8, 9]\n"
     ]
    }
   ],
   "source": [
    "#criando listas com range\n",
    "lst4 = list(range(0,10))\n",
    "print(lst4)"
   ]
  },
  {
   "cell_type": "code",
   "execution_count": 5,
   "id": "2316ccfb",
   "metadata": {},
   "outputs": [
    {
     "name": "stdout",
     "output_type": "stream",
     "text": [
      "10\n"
     ]
    }
   ],
   "source": [
    "#vendo o comprimento da lista\n",
    "print(len(lst4))"
   ]
  },
  {
   "cell_type": "code",
   "execution_count": 15,
   "id": "4e1b5a14",
   "metadata": {},
   "outputs": [
    {
     "name": "stdout",
     "output_type": "stream",
     "text": [
      "b\n",
      "[1, 2, 3, 4, 5]\n"
     ]
    }
   ],
   "source": [
    "#acessando elemenstos da lista\n",
    "print(lst3[2])\n",
    "lst3[2]=\"b\"\n",
    "print(lst3[1])"
   ]
  },
  {
   "cell_type": "code",
   "execution_count": 17,
   "id": "1be89a6e",
   "metadata": {},
   "outputs": [
    {
     "name": "stdout",
     "output_type": "stream",
     "text": [
      "1\n",
      "2\n",
      "3\n",
      "4\n",
      "5\n",
      "6\n",
      "7\n",
      "8\n",
      "9\n",
      "10\n"
     ]
    }
   ],
   "source": [
    "#percorendo lista\n",
    "for n in range(0, len(lst4)):\n",
    "    print(lst4[n]+1)"
   ]
  },
  {
   "cell_type": "code",
   "execution_count": 20,
   "id": "bdef1aaa",
   "metadata": {},
   "outputs": [
    {
     "name": "stdout",
     "output_type": "stream",
     "text": [
      "{'João': 6.0, 'Maria': 8.0, 'Pedro': 6.5}\n",
      "6.0\n"
     ]
    }
   ],
   "source": [
    "#Dicionário, Stes e Tupas\n",
    "#Dicionarios, estrutura, chave/valor\n",
    "notas = {\"João\": 6.0, \"Maria\": 8.0, \"Pedro\": 6.5}\n",
    "print(notas)\n",
    "print(notas[\"João\"])"
   ]
  },
  {
   "cell_type": "code",
   "execution_count": 23,
   "id": "444cc9ab",
   "metadata": {},
   "outputs": [
    {
     "name": "stdout",
     "output_type": "stream",
     "text": [
      "dict_keys(['João', 'Maria', 'Pedro'])\n"
     ]
    },
    {
     "data": {
      "text/plain": [
       "dict_values([6.0, 8.0, 6.5])"
      ]
     },
     "execution_count": 23,
     "metadata": {},
     "output_type": "execute_result"
    }
   ],
   "source": [
    "#todas as chaves\n",
    "print(notas.keys())\n",
    "#Todos od valores\n",
    "notas.values()"
   ]
  },
  {
   "cell_type": "code",
   "execution_count": 25,
   "id": "41126395",
   "metadata": {},
   "outputs": [
    {
     "name": "stdout",
     "output_type": "stream",
     "text": [
      "False\n",
      "True\n"
     ]
    }
   ],
   "source": [
    "#Testa logicamente a exixtencia\n",
    "print(\"joão\" in notas)\n",
    "print(\"João\" in notas)"
   ]
  },
  {
   "cell_type": "code",
   "execution_count": 33,
   "id": "5795b11d",
   "metadata": {},
   "outputs": [
    {
     "name": "stdout",
     "output_type": "stream",
     "text": [
      "{'Maria': 8.0, 'Pedro': 6.5}\n"
     ]
    }
   ],
   "source": [
    "#Apaga e deleta um valor\n",
    "del notas[\"João\"]\n",
    "print(notas)\n"
   ]
  },
  {
   "cell_type": "code",
   "execution_count": 34,
   "id": "e6bad460",
   "metadata": {},
   "outputs": [
    {
     "name": "stdout",
     "output_type": "stream",
     "text": [
      "{'Maria': 8.0, 'Pedro': 6.5, 'João': 8.8}\n"
     ]
    }
   ],
   "source": [
    "#Adiciona\n",
    "notas[\"João\"] = 8.8\n",
    "print(notas)"
   ]
  },
  {
   "cell_type": "code",
   "execution_count": 35,
   "id": "c12bafa1",
   "metadata": {},
   "outputs": [
    {
     "data": {
      "text/plain": [
       "'Não Encontrado'"
      ]
     },
     "execution_count": 35,
     "metadata": {},
     "output_type": "execute_result"
    }
   ],
   "source": [
    "#busca um valor, se não encontrar segundo parametro\n",
    "notas.get(\"Geraldo\",\"Não Encontrado\") "
   ]
  },
  {
   "cell_type": "code",
   "execution_count": 36,
   "id": "c2404d52",
   "metadata": {},
   "outputs": [
    {
     "name": "stdout",
     "output_type": "stream",
     "text": [
      "{'Hive', 'spark', 'Sqoop'}\n"
     ]
    }
   ],
   "source": [
    "#sets dão conjuntos não ordenados de elementos não repetidos\n",
    "bigdata = {'spark', 'Hive', 'Sqoop'}\n",
    "print(bigdata)"
   ]
  },
  {
   "cell_type": "code",
   "execution_count": 38,
   "id": "c37e1b3d",
   "metadata": {},
   "outputs": [
    {
     "name": "stdout",
     "output_type": "stream",
     "text": [
      "False\n",
      "True\n"
     ]
    }
   ],
   "source": [
    "#Verifica exixtencia\n",
    "print('Spark' in bigdata)\n",
    "print('spark' in bigdata)"
   ]
  },
  {
   "cell_type": "code",
   "execution_count": 41,
   "id": "ea8274a0",
   "metadata": {},
   "outputs": [
    {
     "name": "stdout",
     "output_type": "stream",
     "text": [
      "4\n"
     ]
    }
   ],
   "source": [
    "#Adiciona elemento\n",
    "bigdata.add('Hadoop')\n",
    "bigdata\n",
    "print(len(bigdata))"
   ]
  },
  {
   "cell_type": "code",
   "execution_count": 43,
   "id": "188b9da2",
   "metadata": {},
   "outputs": [
    {
     "data": {
      "text/plain": [
       "5"
      ]
     },
     "execution_count": 43,
     "metadata": {},
     "output_type": "execute_result"
    }
   ],
   "source": [
    "#Tulipas são lista que não podem ser alteradas\n",
    "#listas usam {}, tuplas usam ()\n",
    "\n",
    "tupla = (1,2,3,4,5,6,7)\n",
    "tupla\n",
    "tupla[4]"
   ]
  },
  {
   "cell_type": "code",
   "execution_count": 44,
   "id": "b285a1c1",
   "metadata": {},
   "outputs": [
    {
     "data": {
      "text/plain": [
       "{(0, 1): 0, (1, 2): 1, (2, 3): 2}"
      ]
     },
     "execution_count": 44,
     "metadata": {},
     "output_type": "execute_result"
    }
   ],
   "source": [
    "#dicionarios em que cada posisão recebe uma tupla\n",
    "dic2 = {(0,1): 0,(1,2): 1, (2,3):2}\n",
    "dic2"
   ]
  },
  {
   "cell_type": "code",
   "execution_count": 46,
   "id": "5f88ce41",
   "metadata": {},
   "outputs": [
    {
     "name": "stdout",
     "output_type": "stream",
     "text": [
      "<class 'dict'>\n",
      "<class 'set'>\n",
      "<class 'tuple'>\n",
      "<class 'dict'>\n"
     ]
    }
   ],
   "source": [
    "print(type(notas))\n",
    "print(type(bigdata))\n",
    "print(type(tupla))\n",
    "print(type(dic2))"
   ]
  },
  {
   "cell_type": "markdown",
   "id": "75f6979a",
   "metadata": {},
   "source": [
    "\n",
    "\n",
    "\n",
    "\n",
    "\n",
    "\n",
    "\n",
    "\n",
    "\n",
    "\n",
    "\n"
   ]
  }
 ],
 "metadata": {
  "kernelspec": {
   "display_name": "Python 3 (ipykernel)",
   "language": "python",
   "name": "python3"
  },
  "language_info": {
   "codemirror_mode": {
    "name": "ipython",
    "version": 3
   },
   "file_extension": ".py",
   "mimetype": "text/x-python",
   "name": "python",
   "nbconvert_exporter": "python",
   "pygments_lexer": "ipython3",
   "version": "3.9.12"
  }
 },
 "nbformat": 4,
 "nbformat_minor": 5
}
